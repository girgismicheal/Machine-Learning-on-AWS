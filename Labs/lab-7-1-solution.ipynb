{
 "cells": [
  {
   "cell_type": "markdown",
   "id": "620d2b65",
   "metadata": {
    "pycharm": {
     "name": "#%% md\n"
    }
   },
   "source": [
    "# Lab 7.1: Implementing a Multi-lingual Solution\n",
    "\n",
    "In this lab, you will use Amazon Transcribe, Amazon Translate, Amazon Polly to convert an audio file from English to Spanish.\n",
    "\n",
    "## Learning objectives\n",
    "\n",
    "- Interact with Amazon Transcribe, Amazon Translate, and Amazon Polly using the API and Amazon Boto3. \n",
    "- Create a solution to a sentiment analysis business problem.\n",
    "\n",
    "## Introducing the business scenario\n",
    "\n",
    "In this lab, you play the role of a machine learning developer working for a media company that translates videos between multiple languages.  \n",
    "\n",
    "\n",
    "## Lab Steps\n",
    "\n",
    "To complete this lab, you will follow these steps:\n",
    "\n",
    "1. ([Amazon Transcribe example](#1.-Amazon-Transcribe-example))\n",
    "2. ([Amazon Translate example](#2.-Amazon-Translate-example)) \n",
    "3. ([Amazon Polly example](#3.-Amazon-Polly-example))\n",
    "4. ([Challenge Exercise](#4.-Challenge-Exercise))\n",
    "    \n",
    "## Submitting your work\n",
    "\n",
    "1. In the lab console, choose **Submit** to record your progress and when prompted, choose **Yes**.\n",
    "\n",
    "1. If the results don't display after a couple of minutes, return to the top of the lab instructions and choose **Grades**.\n",
    "\n",
    "**Tip:** You can submit your work multiple times. After you change your work, choose **Submit** again. Your last submission is what will be recorded for this lab.\n",
    "\n",
    "1. To find detailed feedback on your work, choose **Details** followed by **View Submission Report**.    \n",
    "    "
   ]
  },
  {
   "cell_type": "markdown",
   "id": "45fc56d1",
   "metadata": {
    "pycharm": {
     "name": "#%% md\n"
    }
   },
   "source": [
    "## 1. Amazon Transcribe example\n",
    "([Go to top](#Lab-7.1:-Implementing-a-Multi-lingual-Solution))\n",
    "\n",
    "In this step you will use the Amazon boto3 client to call Amazon Transcribe and convert an audio file into text. After running the example you can open [Amazon Transcribe](https://console.aws.amazon.com/transcribe/home?region=us-east-1) in the AWS Console to see the transcription.\n",
    "It will take a few minutes for the transcription to complete."
   ]
  },
  {
   "cell_type": "code",
   "execution_count": null,
   "id": "1bba2347",
   "metadata": {
    "pycharm": {
     "name": "#%%\n"
    }
   },
   "outputs": [],
   "source": [
    "import uuid\n",
    "import json\n",
    "import boto3\n",
    "from time import sleep\n",
    "\n",
    "bucket = 'c46255a638438l1748394t1w538120888142-labbucket-12figcw8iu648'\n",
    "database_access_role_arn = 'arn:aws:iam::538120888142:role/service-role/c46255a638438l1748394t1w5-ComprehendDataAccessRole-1A1092NM0Q4C7'\n",
    "translate_access_role_arn = 'arn:aws:iam::538120888142:role/c46255a638438l1748394t1w53812088-TranslateDemoRole-VDMR4T2LVEBF'\n",
    "\n",
    "transcribe_client = boto3.client(\"transcribe\")"
   ]
  },
  {
   "cell_type": "markdown",
   "id": "08c06f1e",
   "metadata": {
    "pycharm": {
     "name": "#%% md\n"
    }
   },
   "source": [
    "The sample file named `test.wav` can be found in the /s3 folder. It contains the audio phrase **Test, Hello, hello, hello. This is a test. Test, test ,test.**"
   ]
  },
  {
   "cell_type": "code",
   "execution_count": null,
   "id": "d4c32241",
   "metadata": {
    "pycharm": {
     "name": "#%%\n"
    }
   },
   "outputs": [],
   "source": [
    "#create input paramters for job_name and job_uri\n",
    "media_input_uri = f's3://{bucket}/lab71/transcribe-sample/test.wav'"
   ]
  },
  {
   "cell_type": "markdown",
   "id": "455732fa",
   "metadata": {
    "pycharm": {
     "name": "#%% md\n"
    }
   },
   "source": [
    "Start by creating the transcription job using the `test.wav` as the intput. Note you need to specify an output location."
   ]
  },
  {
   "cell_type": "code",
   "execution_count": null,
   "id": "86a0a056",
   "metadata": {
    "pycharm": {
     "name": "#%%\n"
    }
   },
   "outputs": [],
   "source": [
    "#create the transcription job\n",
    "job_uuid = uuid.uuid1()\n",
    "transcribe_job_name = f\"transcribe-job-{job_uuid}\"\n",
    "transcribe_output_filename = 'transcribe_output.txt'\n",
    "\n",
    "response = transcribe_client.start_transcription_job(\n",
    "    TranscriptionJobName=transcribe_job_name,\n",
    "    Media={'MediaFileUri': media_input_uri},\n",
    "    MediaFormat='wav',\n",
    "    LanguageCode='en-US',\n",
    "    OutputBucketName=bucket,\n",
    "    OutputKey=transcribe_output_filename\n",
    ")"
   ]
  },
  {
   "cell_type": "markdown",
   "id": "8d94c93c",
   "metadata": {
    "pycharm": {
     "name": "#%% md\n"
    }
   },
   "source": [
    "Wait until the job completes."
   ]
  },
  {
   "cell_type": "code",
   "execution_count": null,
   "id": "6edc2433",
   "metadata": {
    "pycharm": {
     "name": "#%%\n"
    }
   },
   "outputs": [],
   "source": [
    "job=None\n",
    "while True:\n",
    "    job = transcribe_client.get_transcription_job(TranscriptionJobName = transcribe_job_name)\n",
    "    if job['TranscriptionJob']['TranscriptionJobStatus'] in ['COMPLETED','FAILED']:\n",
    "        break\n",
    "    print('.', end='')\n",
    "    sleep(20)\n",
    "        \n",
    "print(job['TranscriptionJob']['TranscriptionJobStatus'])"
   ]
  },
  {
   "cell_type": "markdown",
   "id": "4b163153",
   "metadata": {
    "pycharm": {
     "name": "#%% md\n"
    }
   },
   "source": [
    "If the status above is **COMPLETED**, then you can proceed. Otherwise correct the erro and retry the previous cell."
   ]
  },
  {
   "cell_type": "markdown",
   "id": "eccd38f5",
   "metadata": {
    "pycharm": {
     "name": "#%% md\n"
    }
   },
   "source": [
    "You can grab the output file using the results from the `get_transcription_job` method call."
   ]
  },
  {
   "cell_type": "code",
   "execution_count": null,
   "id": "cce94a0b",
   "metadata": {
    "pycharm": {
     "name": "#%%\n"
    }
   },
   "outputs": [],
   "source": [
    "transcription_file = job['TranscriptionJob']['Transcript']['TranscriptFileUri']\n",
    "print(transcription_file)"
   ]
  },
  {
   "cell_type": "markdown",
   "id": "92030327",
   "metadata": {
    "pycharm": {
     "name": "#%% md\n"
    }
   },
   "source": [
    "Download the file from S3 using the s3 client."
   ]
  },
  {
   "cell_type": "code",
   "execution_count": null,
   "id": "979d8883",
   "metadata": {
    "pycharm": {
     "name": "#%%\n"
    }
   },
   "outputs": [],
   "source": [
    "s3_client = boto3.client('s3')\n",
    "with open(transcribe_output_filename, 'wb') as f:\n",
    "    s3_client.download_fileobj(bucket, transcribe_output_filename, f)"
   ]
  },
  {
   "cell_type": "markdown",
   "id": "901257f7",
   "metadata": {
    "pycharm": {
     "name": "#%% md\n"
    }
   },
   "source": [
    "Open the file and read the contents into a JSON object."
   ]
  },
  {
   "cell_type": "code",
   "execution_count": null,
   "id": "efa7003c",
   "metadata": {
    "pycharm": {
     "name": "#%%\n"
    }
   },
   "outputs": [],
   "source": [
    "with open(transcribe_output_filename) as f:\n",
    "  data = json.load(f)"
   ]
  },
  {
   "cell_type": "code",
   "execution_count": null,
   "id": "406e9f2d",
   "metadata": {
    "pycharm": {
     "name": "#%%\n"
    }
   },
   "outputs": [],
   "source": [
    "data"
   ]
  },
  {
   "cell_type": "markdown",
   "id": "9e16adb3",
   "metadata": {
    "pycharm": {
     "name": "#%% md\n"
    }
   },
   "source": [
    "The actual transcription can be found here:"
   ]
  },
  {
   "cell_type": "code",
   "execution_count": null,
   "id": "370790ef",
   "metadata": {
    "pycharm": {
     "name": "#%%\n"
    }
   },
   "outputs": [],
   "source": [
    "data['results']['transcripts'][0]['transcript']"
   ]
  },
  {
   "cell_type": "markdown",
   "id": "4a667186",
   "metadata": {
    "pycharm": {
     "name": "#%% md\n"
    }
   },
   "source": [
    "## 2. Amazon Translate example\n",
    "\n",
    "([Go to top](#Lab-7.1:-Implementing-a-Multi-lingual-Solution))\n",
    "\n",
    "In this step you will use the Amazon boto3 client to call Amazon Translate and convert a text file from English to Spanish.After running the cell you can open [Amazon Translate](https://console.aws.amazon.com/translate/home?region=us-east-1#batch-translation) in the AWS Console to see the translation.\n",
    "The translation and details about the job are in the Batch Translation section. The text file containing the translation will be in your Amazon S3 bucket. There will also be a details folder containing a JSON file with details about the translation, such as the source and target languages.\n"
   ]
  },
  {
   "cell_type": "markdown",
   "id": "6d3ade02",
   "metadata": {
    "pycharm": {
     "name": "#%% md\n"
    }
   },
   "source": [
    "Start by creating a translation job. The input and output locations are needed. Note Amazon Translate can translate the same text into multiple target languages. In this example, you will use Spanish, for which the code is **es**."
   ]
  },
  {
   "cell_type": "code",
   "execution_count": null,
   "id": "f5778063",
   "metadata": {
    "pycharm": {
     "name": "#%%\n"
    }
   },
   "outputs": [],
   "source": [
    "import uuid\n",
    "\n",
    "translate_client = boto3.client(service_name='translate')\n",
    "\n",
    "input_data = f's3://{bucket}/lab71/translate-sample'\n",
    "output_data = f's3://{bucket}'\n",
    "\n",
    "job_uuid = uuid.uuid1()\n",
    "translate_job_name = f\"translate-job-{job_uuid}\"\n",
    "translate_job_submission = translate_client.start_text_translation_job(\n",
    "    JobName=translate_job_name,\n",
    "    InputDataConfig={'S3Uri': input_data, 'ContentType':'text/plain'},\n",
    "    OutputDataConfig={'S3Uri': output_data},\n",
    "    DataAccessRoleArn=translate_access_role_arn,\n",
    "    SourceLanguageCode='en',\n",
    "    TargetLanguageCodes=['es']\n",
    ")\n",
    "translate_job_id = translate_job_submission['JobId']"
   ]
  },
  {
   "cell_type": "markdown",
   "id": "13d699d8",
   "metadata": {
    "pycharm": {
     "name": "#%% md\n"
    }
   },
   "source": [
    "You can use the job id extracted from the cell above to get the status and wait for it to complete. Note this can take a few minutes to complete."
   ]
  },
  {
   "cell_type": "code",
   "execution_count": null,
   "id": "c929b313",
   "metadata": {
    "pycharm": {
     "name": "#%%\n"
    }
   },
   "outputs": [],
   "source": [
    "while True:\n",
    "    translate_job = translate_client.describe_text_translation_job(JobId=translate_job_id)\n",
    "    if translate_job['TextTranslationJobProperties']['JobStatus'] in ['COMPLETED','FAILED']:\n",
    "        break\n",
    "    sleep(20)\n",
    "    print('.', end='')\n",
    "\n",
    "print(translate_job['TextTranslationJobProperties']['JobStatus'])"
   ]
  },
  {
   "cell_type": "markdown",
   "id": "cfaa549c",
   "metadata": {
    "pycharm": {
     "name": "#%% md\n"
    }
   },
   "source": [
    "If the above cell finished with **COMPLETED** then you can proceed. If not go back and fix the error and try again."
   ]
  },
  {
   "cell_type": "markdown",
   "id": "2114d2a3",
   "metadata": {
    "pycharm": {
     "name": "#%% md\n"
    }
   },
   "source": [
    "The format of the output folder is created using the account number and job id. The following cell creates a path using this information."
   ]
  },
  {
   "cell_type": "code",
   "execution_count": null,
   "id": "daca8d27",
   "metadata": {
    "pycharm": {
     "name": "#%%\n"
    }
   },
   "outputs": [],
   "source": [
    "account_id = boto3.client('sts').get_caller_identity().get('Account')\n",
    "translate_output_path = f'{account_id}-TranslateText-{translate_job_id}/'"
   ]
  },
  {
   "cell_type": "markdown",
   "id": "6599c31e",
   "metadata": {
    "pycharm": {
     "name": "#%% md\n"
    }
   },
   "source": [
    "Translate outputs several files. You are interested in the .txt file. The following code will download the txt file which is the results from the translation."
   ]
  },
  {
   "cell_type": "code",
   "execution_count": null,
   "id": "0ba50eb8",
   "metadata": {
    "pycharm": {
     "name": "#%%\n"
    }
   },
   "outputs": [],
   "source": [
    "s3_resource = boto3.resource('s3')\n",
    "my_bucket = s3_resource.Bucket(bucket)\n",
    "\n",
    "for my_bucket_object in my_bucket.objects.filter(Prefix=translate_output_path):\n",
    "    file=my_bucket_object.key\n",
    "    if file.endswith('txt'):\n",
    "        file = file.lstrip(translate_output_path)\n",
    "        file = file.lstrip('/')\n",
    "        print(file)\n",
    "        with open(file, 'wb') as f:\n",
    "            s3_client.download_fileobj(bucket, my_bucket_object.key, f)"
   ]
  },
  {
   "cell_type": "markdown",
   "id": "234f00f0",
   "metadata": {
    "pycharm": {
     "name": "#%% md\n"
    }
   },
   "source": [
    "## 3. Amazon Polly example\n",
    "\n",
    "([Go to top](#Lab-7.1:-Implementing-a-Multi-lingual-Solution))\n",
    "\n",
    "In this step you will use the Amazon boto3 client to call [Amazon Polly](https://console.aws.amazon.com/polly/home/SynthesisTasks) and create a vocalization of a text file in Spanish.\n",
    "After you run the cell open your Amazon S3 bucket to see the output. The output is an mp3 file with a long string for a file name. You can open the file and hear the Lucia voice saying \"Prueba de prueba, este es una prueba.\"\n"
   ]
  },
  {
   "cell_type": "code",
   "execution_count": null,
   "id": "805e79a9",
   "metadata": {
    "pycharm": {
     "name": "#%%\n"
    }
   },
   "outputs": [],
   "source": [
    "polly_client = boto3.client('polly')\n",
    "\n",
    "itemname = 'lab71/polly-sample/es.test.txt'\n",
    "obj = s3_resource.Object(bucket, itemname )\n",
    "body = obj.get()['Body'].read().decode('utf-8')\n",
    "\n",
    "response = polly_client.start_speech_synthesis_task(\n",
    "    Engine='standard',\n",
    "    OutputFormat='mp3',\n",
    "    OutputS3BucketName=bucket,\n",
    "    Text=body,\n",
    "    VoiceId='Lucia'\n",
    ") \n"
   ]
  },
  {
   "cell_type": "markdown",
   "id": "20f08a60",
   "metadata": {
    "pycharm": {
     "name": "#%% md\n"
    }
   },
   "source": [
    "You can extract the task id from the response."
   ]
  },
  {
   "cell_type": "code",
   "execution_count": null,
   "id": "af675d8f",
   "metadata": {
    "pycharm": {
     "name": "#%%\n"
    }
   },
   "outputs": [],
   "source": [
    "task_id = response['SynthesisTask']['TaskId']"
   ]
  },
  {
   "cell_type": "markdown",
   "id": "d60d6681",
   "metadata": {
    "pycharm": {
     "name": "#%% md\n"
    }
   },
   "source": [
    "You can use this task_id to check to see if the job has completed."
   ]
  },
  {
   "cell_type": "code",
   "execution_count": null,
   "id": "5a69bdce",
   "metadata": {
    "pycharm": {
     "name": "#%%\n"
    }
   },
   "outputs": [],
   "source": [
    "while True:\n",
    "    polly_job = polly_client.get_speech_synthesis_task(TaskId=task_id)\n",
    "    if polly_job['SynthesisTask']['TaskStatus'] in ['completed','failed']:\n",
    "        break\n",
    "    sleep(20)\n",
    "    print('.', end='')\n",
    "\n",
    "print(polly_job['SynthesisTask']['TaskStatus'])"
   ]
  },
  {
   "cell_type": "markdown",
   "id": "253d7d79",
   "metadata": {
    "pycharm": {
     "name": "#%% md\n"
    }
   },
   "source": [
    "If the above cell exists with **completed**, then proceed. If not, go ahead and fix the problem before proceeding."
   ]
  },
  {
   "cell_type": "markdown",
   "id": "f1c91095",
   "metadata": {
    "pycharm": {
     "name": "#%% md\n"
    }
   },
   "source": [
    "The following cell will download the results."
   ]
  },
  {
   "cell_type": "code",
   "execution_count": null,
   "id": "4f0cc52e",
   "metadata": {
    "pycharm": {
     "name": "#%%\n"
    }
   },
   "outputs": [],
   "source": [
    "s3_client = boto3.client('s3')\n",
    "polly_output_filename = f'{task_id}.mp3'\n",
    "with open(polly_output_filename, 'wb') as f:\n",
    "    s3_client.download_fileobj(bucket, polly_output_filename, f)"
   ]
  },
  {
   "cell_type": "markdown",
   "id": "fe8557b5",
   "metadata": {
    "pycharm": {
     "name": "#%% md\n"
    }
   },
   "source": [
    "## 4. Challenge Exercise\n",
    "\n",
    "([Go to top](#Lab-7.1:-Implementing-a-Multi-lingual-Solution))\n",
    "    \n",
    "Your challenge for this lab is to create a translated audio file from a video with an English audio channel. You can use the code from the previous three examples as a template for your solution.\n",
    "\n",
    "You can fine the video for the challenge in your Amazon S3 bucket in the `lab71/challenge` folder and is named `sample.mp4`. You can also find this file in the `/s3` folder in this notebook instance.\n"
   ]
  },
  {
   "cell_type": "code",
   "execution_count": null,
   "id": "1e39bb2c",
   "metadata": {
    "pycharm": {
     "name": "#%%\n"
    }
   },
   "outputs": [],
   "source": [
    "#create input paramters for job_name and job_uri\n",
    "media_input_uri = f's3://{bucket}/lab71/challenge/sample.mp4'"
   ]
  },
  {
   "cell_type": "code",
   "execution_count": null,
   "id": "ddb5b4a1",
   "metadata": {
    "pycharm": {
     "name": "#%%\n"
    }
   },
   "outputs": [],
   "source": [
    "#create the transcription job\n",
    "job_uuid = uuid.uuid1()\n",
    "transcribe_job_name = f\"challenge-job-{job_uuid}\"\n",
    "transcribe_output_filename = 'challenge_output.txt'\n",
    "\n",
    "response = transcribe_client.start_transcription_job(\n",
    "    TranscriptionJobName=transcribe_job_name,\n",
    "    Media={'MediaFileUri': media_input_uri},\n",
    "    MediaFormat='mp4',\n",
    "    LanguageCode='en-US',\n",
    "    OutputBucketName=bucket,\n",
    "    OutputKey=f'challenge/{transcribe_output_filename}'\n",
    ")"
   ]
  },
  {
   "cell_type": "code",
   "execution_count": null,
   "id": "fee06a42",
   "metadata": {
    "pycharm": {
     "name": "#%%\n"
    }
   },
   "outputs": [],
   "source": [
    "job=None\n",
    "while True:\n",
    "    job = transcribe_client.get_transcription_job(TranscriptionJobName = transcribe_job_name)\n",
    "    if job['TranscriptionJob']['TranscriptionJobStatus'] in ['COMPLETED','FAILED']:\n",
    "        break\n",
    "    print('.', end='')\n",
    "    sleep(20)\n",
    "        \n",
    "print(job['TranscriptionJob']['TranscriptionJobStatus'])"
   ]
  },
  {
   "cell_type": "code",
   "execution_count": null,
   "id": "0864bc93",
   "metadata": {
    "pycharm": {
     "name": "#%%\n"
    }
   },
   "outputs": [],
   "source": [
    "transcription_file = job['TranscriptionJob']['Transcript']['TranscriptFileUri']\n",
    "print(transcription_file)"
   ]
  },
  {
   "cell_type": "code",
   "execution_count": null,
   "id": "5fc5e3e0",
   "metadata": {
    "pycharm": {
     "name": "#%%\n"
    }
   },
   "outputs": [],
   "source": [
    "s3_client = boto3.client('s3')\n",
    "with open(transcribe_output_filename, 'wb') as f:\n",
    "    s3_client.download_fileobj(bucket, f'challenge/{transcribe_output_filename}', f)"
   ]
  },
  {
   "cell_type": "code",
   "execution_count": null,
   "id": "74fcb2b2",
   "metadata": {
    "pycharm": {
     "name": "#%%\n"
    }
   },
   "outputs": [],
   "source": [
    "with open(transcribe_output_filename) as f:\n",
    "  data = json.load(f)"
   ]
  },
  {
   "cell_type": "code",
   "execution_count": null,
   "id": "042fd2eb",
   "metadata": {
    "pycharm": {
     "name": "#%%\n"
    }
   },
   "outputs": [],
   "source": [
    "challenge_text = data['results']['transcripts'][0]['transcript']\n",
    "print(challenge_text)"
   ]
  },
  {
   "cell_type": "code",
   "execution_count": null,
   "id": "23f536b7",
   "metadata": {
    "pycharm": {
     "name": "#%%\n"
    }
   },
   "outputs": [],
   "source": [
    "s3_resource = boto3.resource('s3')\n",
    "s3_resource.Object(bucket, 'challenge-translate-input/input.txt').put(Body=challenge_text)"
   ]
  },
  {
   "cell_type": "code",
   "execution_count": null,
   "id": "eeea4add",
   "metadata": {
    "pycharm": {
     "name": "#%%\n"
    }
   },
   "outputs": [],
   "source": [
    "import uuid\n",
    "\n",
    "translate_client = boto3.client(service_name='translate')\n",
    "\n",
    "input_data = f's3://{bucket}/challenge-translate-input'\n",
    "output_data = f's3://{bucket}/challenge-translate-output'\n",
    "\n",
    "job_uuid = uuid.uuid1()\n",
    "translate_job_name = f\"translate-job-{job_uuid}\"\n",
    "translate_job_submission = translate_client.start_text_translation_job(\n",
    "    JobName=translate_job_name,\n",
    "    InputDataConfig={'S3Uri': input_data, 'ContentType':'text/plain'},\n",
    "    OutputDataConfig={'S3Uri': output_data},\n",
    "    DataAccessRoleArn=database_access_role_arn,\n",
    "    SourceLanguageCode='en',\n",
    "    TargetLanguageCodes=['es']\n",
    ")\n",
    "translate_job_id = translate_job_submission['JobId']"
   ]
  },
  {
   "cell_type": "code",
   "execution_count": null,
   "id": "9b730074",
   "metadata": {
    "pycharm": {
     "name": "#%%\n"
    }
   },
   "outputs": [],
   "source": [
    "while True:\n",
    "    translate_job = translate_client.describe_text_translation_job(JobId=translate_job_id)\n",
    "    if translate_job['TextTranslationJobProperties']['JobStatus'] in ['COMPLETED','FAILED']:\n",
    "        break\n",
    "    sleep(20)\n",
    "    print('.', end='')\n",
    "\n",
    "print(translate_job['TextTranslationJobProperties']['JobStatus'])"
   ]
  },
  {
   "cell_type": "code",
   "execution_count": null,
   "id": "4db86810",
   "metadata": {
    "pycharm": {
     "name": "#%%\n"
    }
   },
   "outputs": [],
   "source": [
    "account_id = boto3.client('sts').get_caller_identity().get('Account')"
   ]
  },
  {
   "cell_type": "code",
   "execution_count": null,
   "id": "0811154d",
   "metadata": {
    "pycharm": {
     "name": "#%%\n"
    }
   },
   "outputs": [],
   "source": [
    "translate_output_path = f'challenge-translate-output/{account_id}-TranslateText-{translate_job_id}/'"
   ]
  },
  {
   "cell_type": "code",
   "execution_count": null,
   "id": "38bb9fda",
   "metadata": {
    "pycharm": {
     "name": "#%%\n"
    }
   },
   "outputs": [],
   "source": [
    "s3_resource = boto3.resource('s3')\n",
    "my_bucket = s3_resource.Bucket(bucket)\n",
    "\n",
    "for my_bucket_object in my_bucket.objects.filter(Prefix=translate_output_path):\n",
    "    file=my_bucket_object.key\n",
    "    if file.endswith('txt'):\n",
    "        polly_input = file\n",
    "        \n",
    "print(polly_input)"
   ]
  },
  {
   "cell_type": "code",
   "execution_count": null,
   "id": "082c1e32",
   "metadata": {
    "pycharm": {
     "name": "#%%\n"
    }
   },
   "outputs": [],
   "source": [
    "polly_client = boto3.client('polly')\n",
    "\n",
    "obj = s3_resource.Object(bucket, polly_input )\n",
    "body = obj.get()['Body'].read().decode('utf-8')\n",
    "\n",
    "response = polly_client.start_speech_synthesis_task(\n",
    "    Engine='standard',\n",
    "    OutputFormat='mp3',\n",
    "    OutputS3BucketName=bucket,\n",
    "    Text=body,\n",
    "    VoiceId='Lucia'\n",
    ") \n"
   ]
  },
  {
   "cell_type": "code",
   "execution_count": null,
   "id": "792e2386",
   "metadata": {
    "pycharm": {
     "name": "#%%\n"
    }
   },
   "outputs": [],
   "source": [
    "task_id = response['SynthesisTask']['TaskId']"
   ]
  },
  {
   "cell_type": "code",
   "execution_count": null,
   "id": "0eaf3a6e",
   "metadata": {
    "pycharm": {
     "name": "#%%\n"
    }
   },
   "outputs": [],
   "source": [
    "while True:\n",
    "    polly_job = polly_client.get_speech_synthesis_task(TaskId=task_id)\n",
    "    if polly_job['SynthesisTask']['TaskStatus'] in ['completed','failed']:\n",
    "        break\n",
    "    sleep(20)\n",
    "    print('.', end='')\n",
    "\n",
    "print(polly_job['SynthesisTask']['TaskStatus'])"
   ]
  },
  {
   "cell_type": "code",
   "execution_count": null,
   "id": "a411710a",
   "metadata": {
    "pycharm": {
     "name": "#%%\n"
    }
   },
   "outputs": [],
   "source": [
    "s3_client = boto3.client('s3')\n",
    "polly_output_filename = f'{task_id}.mp3'\n",
    "with open(polly_output_filename, 'wb') as f:\n",
    "    s3_client.download_fileobj(bucket, polly_output_filename, f)"
   ]
  },
  {
   "cell_type": "markdown",
   "id": "1220d4e1",
   "metadata": {
    "pycharm": {
     "name": "#%% md\n"
    }
   },
   "source": [
    "*©2021 Amazon Web Services, Inc. or its affiliates. All rights reserved. This work may not be reproduced or redistributed, in whole or in part, without prior written permission from Amazon Web Services, Inc. Commercial copying, lending, or selling is prohibited. All trademarks are the property of their owners.*\n"
   ]
  },
  {
   "cell_type": "code",
   "execution_count": null,
   "id": "fbb22bea",
   "metadata": {
    "pycharm": {
     "name": "#%%\n"
    }
   },
   "outputs": [],
   "source": []
  }
 ],
 "metadata": {
  "kernelspec": {
   "display_name": "conda_python3",
   "language": "python",
   "name": "conda_python3"
  },
  "language_info": {
   "codemirror_mode": {
    "name": "ipython",
    "version": 3
   },
   "file_extension": ".py",
   "mimetype": "text/x-python",
   "name": "python",
   "nbconvert_exporter": "python",
   "pygments_lexer": "ipython3",
   "version": "3.6.13"
  }
 },
 "nbformat": 4,
 "nbformat_minor": 5
}